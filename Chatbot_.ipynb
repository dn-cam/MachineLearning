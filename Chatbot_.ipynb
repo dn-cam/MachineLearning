{
 "cells": [
  {
   "cell_type": "code",
   "execution_count": null,
   "metadata": {
    "collapsed": true
   },
   "outputs": [],
   "source": [
    "import sqlite3\n",
    "import json\n",
    "from datetime import datetime"
   ]
  },
  {
   "cell_type": "code",
   "execution_count": null,
   "metadata": {
    "collapsed": true
   },
   "outputs": [],
   "source": [
    "#MY code-block 1\n",
    "\n",
    "#We will be working with limited amount of data for faster processing. \n",
    "#here i have selected the data from 2005 - 12\n",
    "interval = '2005-12'\n",
    "\n",
    "#create connection\n",
    "connection = sqlite3.connect('{}.db'.format(interval))\n",
    "\n",
    "#Now we define the cursor that we are gonna use to update data to the table\n",
    "cursor = connection.cursor\n",
    "\n",
    "#function to create Table\n",
    "\n",
    "def createTable() :\n",
    "    c.execute(\"\"\"CREATE TABLE IF NOT EXISTS parent_reply\n",
    "    (parent_id TEXT PRIMARY KEY, comment_id TEXT UNIQUE, \n",
    "    parent TEXT, comment TEXT, subreddit TEXT, unix INT, score INT)\"\"\")\n",
    "\n",
    "def formatData(data):\n",
    "    data = data.replace(\"\\n\", \" newlinechar \").replace(\"\\r\", \" newlinechar \").replace('\"', \"'\")\n",
    "    return data\n",
    "\n",
    "\n",
    "def findParent(pid):\n",
    "    try:\n",
    "        sql = \"SELECT comment FROM parent_reply WHERE comment_id = '{}' LIMIT 1\".format(pid)\n",
    "        c.execute(sql)\n",
    "        result = c.fetchone()\n",
    "        if result != None:\n",
    "            return result[0] # 0 cause we are only selecting 1 commenting\n",
    "        else:\n",
    "            return False\n",
    "    except Exception as e:\n",
    "        #print(\"Find Parent)\n",
    "        return False\n",
    "    \n",
    "#parent_data = find_parent(parent_id)    \n",
    "if __name__ == \"__main__\":\n",
    "        create_table()\n",
    "        #how many rows we have created\n",
    "        row_counter = 0\n",
    "        #how many parents and child pairs we found\n",
    "        paired_rows = 0\n",
    "        \n",
    "        with open(\"RC_{}\".format(timeframe.split('-'))[0], timeframe, buffering = 1000) as f:\n",
    "                  for row in f:\n",
    "                      print(row)\n",
    "                      row_counter += 1\n",
    "                      row = json.loads(row)\n",
    "                      parent_id = row['parent_id']\n",
    "                      body = format_data(row['body'])\n",
    "                      created_utc = row[created_utc]\n",
    "                      score = row['score']\n",
    "                      subreddit = row['subreddit']\n",
    "\n",
    "                  \n",
    "        \n",
    "\n",
    "\n"
   ]
  }
 ],
 "metadata": {
  "kernelspec": {
   "display_name": "Python 2",
   "language": "python",
   "name": "python2"
  },
  "language_info": {
   "codemirror_mode": {
    "name": "ipython",
    "version": 2
   },
   "file_extension": ".py",
   "mimetype": "text/x-python",
   "name": "python",
   "nbconvert_exporter": "python",
   "pygments_lexer": "ipython2",
   "version": "2.7.15"
  }
 },
 "nbformat": 4,
 "nbformat_minor": 2
}
