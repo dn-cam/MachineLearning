{
 "cells": [
  {
   "cell_type": "code",
   "execution_count": 3,
   "metadata": {
    "collapsed": true
   },
   "outputs": [],
   "source": [
    "import sqlite3\n",
    "import json\n",
    "from datetime import datetime\n",
    "\n"
   ]
  },
  {
   "cell_type": "code",
   "execution_count": 15,
   "metadata": {},
   "outputs": [],
   "source": [
    "######################\n",
    "#TUTORIAL code-block 1\n",
    "######################\n",
    "\n",
    "timeframe = '2005-12'\n",
    "#build one transaction and connect data all at once\n",
    "sql_transaction = []\n",
    "\n",
    "connection = sqlite3.connect('{}.db'.format(timeframe))\n",
    "#cursor\n",
    "c = connection.cursor()\n",
    "\n",
    "def create_table() :\n",
    "    c.execute(\"\"\"CREATE TABLE IF NOT EXISTS parent_reply\n",
    "    (parent_id TEXT PRIMARY KEY, comment_id TEXT UNIQUE, \n",
    "    parent TEXT, comment TEXT, subreddit TEXT, unix INT, score INT)\"\"\")\n",
    "\n",
    "def format_data(data):\n",
    "    data = data.replace(\"\\n\", \" newlinechar \").replace(\"\\r\", \" newlinechar \").replace('\"', \"'\")\n",
    "    return data\n",
    "\n",
    "def acceptable(data):\n",
    "    if len(data.split(' ')) > 50 or len(data) < 1:\n",
    "        return False\n",
    "    elif len(data) > 1000:\n",
    "        return False\n",
    "    elif data == '[deleted]' or data == '[removed]':\n",
    "        return False\n",
    "    else:\n",
    "        return True\n",
    "    \n",
    "\n",
    "\n",
    "def find_parent(pid):\n",
    "    try:\n",
    "        sql = \"SELECT comment FROM parent_reply WHERE comment_id = '{}' LIMIT 1\".format(pid)\n",
    "        c.execute(sql)\n",
    "        result = c.fetchone()\n",
    "        if result != None:\n",
    "            return result[0] # 0 cause we are only selecting 1 commenting\n",
    "        else:\n",
    "            return False\n",
    "    except Exception as e:\n",
    "        #print(\"Find Parent)\n",
    "        return False\n",
    "    "
   ]
  },
  {
   "cell_type": "code",
   "execution_count": 16,
   "metadata": {
    "collapsed": true
   },
   "outputs": [],
   "source": [
    "def find_existing_score(pid):\n",
    "    try:\n",
    "        sql = \"SELECT score FROM parent_reply WHERE parent_id = '{}' LIMIT 1\".format(pid)\n",
    "        c.execute(sql)\n",
    "        result = c.fetchone()\n",
    "        if result != None:\n",
    "            return result[0] # 0 cause we are only selecting 1 commenting\n",
    "        else:\n",
    "            return False\n",
    "    except Exception as e:\n",
    "        #print(\"Find Parent)\n",
    "        return False "
   ]
  },
  {
   "cell_type": "code",
   "execution_count": null,
   "metadata": {
    "collapsed": true
   },
   "outputs": [],
   "source": [
    "#parent_data = find_parent(parent_id)    \n",
    "if __name__ == \"__main__\":\n",
    "        create_table()\n",
    "        #how many rows we have created\n",
    "        row_counter = 0\n",
    "        #how many parents and child pairs we found\n",
    "        paired_rows = 0\n",
    "        \n",
    "        with open(\"RC_2005-12\".format(timeframe.split('-')[0], timeframe), buffering = 1000) as f:\n",
    "            for row in f:\n",
    "                print(row)\n",
    "                row_counter += 1\n",
    "                row = json.loads(row)\n",
    "                parent_id = row['parent_id']\n",
    "                body = format_data(row['body'])\n",
    "                created_utc = row['created_utc']\n",
    "                score = row['score']\n",
    "                subreddit = row['subreddit']\n",
    "                parent_data = find_parent(parent_id)\n",
    "                \n",
    "                #since there is a lot of useless comments on reddit,\n",
    "                #we only keep certain comments\n",
    "                if score >= 2: #means somebody saw this comment at least \n",
    "                    #now we check to see if there's a comment with this parent id with a better score\n",
    "                    existing_comment_score = find_existing_score(pid)\n",
    "                    if existing_comment_score:\n",
    "                        if score > existing_comment_score:\n",
    "                            \n",
    "                            \n",
    "                    \n",
    "                    "
   ]
  },
  {
   "cell_type": "code",
   "execution_count": null,
   "metadata": {
    "collapsed": true
   },
   "outputs": [],
   "source": [
    "######################\n",
    "#TUTORIAL code-block 1\n",
    "######################\n",
    "\n",
    "\n"
   ]
  }
 ],
 "metadata": {
  "kernelspec": {
   "display_name": "Python 2",
   "language": "python",
   "name": "python2"
  },
  "language_info": {
   "codemirror_mode": {
    "name": "ipython",
    "version": 2
   },
   "file_extension": ".py",
   "mimetype": "text/x-python",
   "name": "python",
   "nbconvert_exporter": "python",
   "pygments_lexer": "ipython2",
   "version": "2.7.15"
  }
 },
 "nbformat": 4,
 "nbformat_minor": 2
}
