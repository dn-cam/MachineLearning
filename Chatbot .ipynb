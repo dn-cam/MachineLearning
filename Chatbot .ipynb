{
 "cells": [
  {
   "cell_type": "code",
   "execution_count": 2,
   "metadata": {
    "collapsed": true
   },
   "outputs": [],
   "source": [
    "import sqlite3\n",
    "import json\n",
    "from datetime import datetime\n",
    "\n"
   ]
  },
  {
   "cell_type": "code",
   "execution_count": 3,
   "metadata": {
    "collapsed": true
   },
   "outputs": [],
   "source": [
    "######################\n",
    "#TUTORIAL code-block 1\n",
    "######################\n",
    "\n",
    "timeframe = '2009-04'\n",
    "#build one transaction and connect data all at once\n",
    "sql_transaction = []\n",
    "\n",
    "connection = sqlite3.connect('{}.db'.format(timeframe))\n",
    "#cursor\n",
    "c = connection.cursor()\n",
    "\n",
    "def create_table() :\n",
    "    c.execute(\"\"\"CREATE TABLE IF NOT EXISTS parent_reply\n",
    "    (parent_id TEXT PRIMARY KEY, comment_id TEXT UNIQUE, \n",
    "    parent TEXT, comment TEXT, subreddit TEXT, unix INT, score INT)\"\"\")\n",
    "\n",
    "def format_data(data):\n",
    "    data = data.replace(\"\\n\", \" newlinechar \").replace(\"\\r\", \" newlinechar \").replace('\"', \"'\")\n",
    "    return data\n",
    "\n",
    "def acceptable(data):\n",
    "    if len(data.split(' ')) > 50 or len(data) < 1:\n",
    "        return False\n",
    "    elif len(data) > 1000:\n",
    "        return False\n",
    "    elif data == '[deleted]' or data == '[removed]':\n",
    "        return False\n",
    "    else:\n",
    "        return True\n",
    "    \n",
    "\n",
    "\n",
    "def find_parent(pid):\n",
    "    try:\n",
    "        sql = \"SELECT comment FROM parent_reply WHERE comment_id = '{}' LIMIT 1\".format(pid)\n",
    "        c.execute(sql)\n",
    "        result = c.fetchone()\n",
    "        if result != None:\n",
    "            return result[0] # 0 cause we are only selecting 1 commenting\n",
    "        else:\n",
    "            return False\n",
    "    except Exception as e:\n",
    "        #print(\"Find Parent)\n",
    "        return False\n",
    "    "
   ]
  },
  {
   "cell_type": "code",
   "execution_count": 4,
   "metadata": {
    "collapsed": true
   },
   "outputs": [],
   "source": [
    "def find_existing_score(pid):\n",
    "    try:\n",
    "        sql = \"SELECT score FROM parent_reply WHERE parent_id = '{}' LIMIT 1\".format(pid)\n",
    "        c.execute(sql)\n",
    "        result = c.fetchone()\n",
    "        if result != None:\n",
    "            return result[0] # 0 cause we are only selecting 1 commenting\n",
    "        else:\n",
    "            return False\n",
    "    except Exception as e:\n",
    "        #print(\"Find Parent)\n",
    "        return False "
   ]
  },
  {
   "cell_type": "code",
   "execution_count": 13,
   "metadata": {
    "collapsed": true
   },
   "outputs": [],
   "source": [
    "def transaction_bldr(sql):\n",
    "    #globalling the sql_trnsaction variable\n",
    "    global sql_transaction\n",
    "    #keep building it till it's a certain size\n",
    "    sql_transaction.append(sql)\n",
    "    if len(sql_transaction) > 1000:\n",
    "        c.execute('BEGIN TRANSACTION')\n",
    "        for s in sql_transaction:\n",
    "            try:\n",
    "                c.execute(s)\n",
    "            except:\n",
    "                pass\n",
    "    connection.commit()\n",
    "    sql_transaction = []\n",
    "\n",
    "\n",
    "def sql_insert_replace_comment(commentid, parentid, parent, comment, subreddit, time, score):\n",
    "    try:\n",
    "        sql = \"\"\"UPDATE parent_reply SET parent_id = ?, comment_id = ?,\n",
    "        parent = ?, comment = ?, subreddit = ?, unix = ?, score = ?\n",
    "        WHERE parent_id = ?;\"\"\".format(parentid, commentid, parent, comment, subreddit, int(time), score, parentid)\n",
    "        transaction_bldr(sql)\n",
    "    except Exception as e:\n",
    "        print('s0 insertion', e.unicode)\n",
    "        \n",
    "    \n",
    "def sql_insert_has_parent(commentid,parentid,parent,comment,subreddit,time,score):\n",
    "    try:\n",
    "        sql = \"\"\"INSERT INTO parent_reply (parent_id, comment_id, parent, comment,\n",
    "        subreddit, unix, score) VALUES (\"{}\",\"{}\",\"{}\",\"{}\",\"{}\",{},\n",
    "        {});\"\"\".format(parentid, commentid, parent, comment, subreddit, int(time), score)\n",
    "        transaction_bldr(sql)\n",
    "    except Exception as e:\n",
    "        print('s1 insertion',e.unicode)\n",
    "\n",
    "\n",
    "def sql_insert_no_parent(commentid,parentid,comment,subreddit,time,score):\n",
    "    try:\n",
    "        unicode(comment, \"ascii\")\n",
    "    except UnicodeError:\n",
    "        comment = unicode(comment, \"utf-8\")\n",
    "    else:\n",
    "        # value was valid ASCII data\n",
    "        pass\n",
    "    \n",
    "    try:\n",
    "        sql = \"\"\"INSERT INTO parent_reply (parent_id, comment_id, comment, subreddit,\n",
    "        unix, score) VALUES (\"{}\",\"{}\",\"{}\",\"{}\",{},\n",
    "        {});\"\"\".format(parentid, commentid, comment, subreddit, int(time), score)\n",
    "        transaction_bldr(sql)\n",
    "    except Exception as e:\n",
    "        print('s2 insertion',e.unicode)   \n",
    "        \n",
    "        \n"
   ]
  },
  {
   "cell_type": "code",
   "execution_count": 14,
   "metadata": {
    "scrolled": false
   },
   "outputs": [
    {
     "ename": "TypeError",
     "evalue": "decoding Unicode is not supported",
     "output_type": "error",
     "traceback": [
      "\u001b[0;31m---------------------------------------------------------------------------\u001b[0m",
      "\u001b[0;31mTypeError\u001b[0m                                 Traceback (most recent call last)",
      "\u001b[0;32m<ipython-input-14-12d53df026ac>\u001b[0m in \u001b[0;36m<module>\u001b[0;34m()\u001b[0m\n\u001b[1;32m     35\u001b[0m                                 \u001b[0msql_insert_has_parent\u001b[0m\u001b[0;34m(\u001b[0m\u001b[0mcomment_id\u001b[0m\u001b[0;34m,\u001b[0m \u001b[0mparent_id\u001b[0m\u001b[0;34m,\u001b[0m \u001b[0mparent_data\u001b[0m\u001b[0;34m,\u001b[0m \u001b[0mbody\u001b[0m\u001b[0;34m,\u001b[0m \u001b[0msubreddit\u001b[0m\u001b[0;34m,\u001b[0m \u001b[0mcreated_utc\u001b[0m\u001b[0;34m,\u001b[0m \u001b[0mscore\u001b[0m\u001b[0;34m)\u001b[0m\u001b[0;34m\u001b[0m\u001b[0m\n\u001b[1;32m     36\u001b[0m                             \u001b[0;32melse\u001b[0m\u001b[0;34m:\u001b[0m\u001b[0;34m\u001b[0m\u001b[0m\n\u001b[0;32m---> 37\u001b[0;31m                                 \u001b[0msql_insert_no_parent\u001b[0m\u001b[0;34m(\u001b[0m\u001b[0mcomment_id\u001b[0m\u001b[0;34m,\u001b[0m \u001b[0mparent_id\u001b[0m\u001b[0;34m,\u001b[0m \u001b[0mbody\u001b[0m\u001b[0;34m,\u001b[0m \u001b[0msubreddit\u001b[0m\u001b[0;34m,\u001b[0m \u001b[0mcreated_utc\u001b[0m\u001b[0;34m,\u001b[0m \u001b[0mscore\u001b[0m\u001b[0;34m)\u001b[0m\u001b[0;34m\u001b[0m\u001b[0m\n\u001b[0m\u001b[1;32m     38\u001b[0m \u001b[0;34m\u001b[0m\u001b[0m\n\u001b[1;32m     39\u001b[0m \u001b[0;34m\u001b[0m\u001b[0m\n",
      "\u001b[0;32m<ipython-input-13-2ced1b96f5b5>\u001b[0m in \u001b[0;36msql_insert_no_parent\u001b[0;34m(commentid, parentid, comment, subreddit, time, score)\u001b[0m\n\u001b[1;32m     37\u001b[0m \u001b[0;32mdef\u001b[0m \u001b[0msql_insert_no_parent\u001b[0m\u001b[0;34m(\u001b[0m\u001b[0mcommentid\u001b[0m\u001b[0;34m,\u001b[0m\u001b[0mparentid\u001b[0m\u001b[0;34m,\u001b[0m\u001b[0mcomment\u001b[0m\u001b[0;34m,\u001b[0m\u001b[0msubreddit\u001b[0m\u001b[0;34m,\u001b[0m\u001b[0mtime\u001b[0m\u001b[0;34m,\u001b[0m\u001b[0mscore\u001b[0m\u001b[0;34m)\u001b[0m\u001b[0;34m:\u001b[0m\u001b[0;34m\u001b[0m\u001b[0m\n\u001b[1;32m     38\u001b[0m     \u001b[0;32mtry\u001b[0m\u001b[0;34m:\u001b[0m\u001b[0;34m\u001b[0m\u001b[0m\n\u001b[0;32m---> 39\u001b[0;31m         \u001b[0municode\u001b[0m\u001b[0;34m(\u001b[0m\u001b[0mcomment\u001b[0m\u001b[0;34m,\u001b[0m \u001b[0;34m\"ascii\"\u001b[0m\u001b[0;34m)\u001b[0m\u001b[0;34m\u001b[0m\u001b[0m\n\u001b[0m\u001b[1;32m     40\u001b[0m     \u001b[0;32mexcept\u001b[0m \u001b[0mUnicodeError\u001b[0m\u001b[0;34m:\u001b[0m\u001b[0;34m\u001b[0m\u001b[0m\n\u001b[1;32m     41\u001b[0m         \u001b[0mcomment\u001b[0m \u001b[0;34m=\u001b[0m \u001b[0municode\u001b[0m\u001b[0;34m(\u001b[0m\u001b[0mcomment\u001b[0m\u001b[0;34m,\u001b[0m \u001b[0;34m\"utf-8\"\u001b[0m\u001b[0;34m)\u001b[0m\u001b[0;34m\u001b[0m\u001b[0m\n",
      "\u001b[0;31mTypeError\u001b[0m: decoding Unicode is not supported"
     ]
    }
   ],
   "source": [
    "#parent_data = find_parent(parent_id)    \n",
    "if __name__ == \"__main__\":\n",
    "        create_table()\n",
    "        #how many rows we have created\n",
    "        row_counter = 0\n",
    "        #how many parents and child pairs we found\n",
    "        paired_rows = 0\n",
    "        \n",
    "        with open('RC_2009-04', buffering = 1000) as f:\n",
    "            for row in f:\n",
    "                row_counter += 1\n",
    "                row = json.loads(row)\n",
    "                parent_id = row['parent_id']\n",
    "                body = format_data(row['body'])\n",
    "                comment_id = row['name']\n",
    "                created_utc = row['created_utc']\n",
    "                score = row['score']\n",
    "                subreddit = row['subreddit']\n",
    "                parent_data = find_parent(parent_id)\n",
    "                \n",
    "                \n",
    "                \n",
    "                #since there is a lot of useless comments on reddit,\n",
    "                #we only keep certain comments\n",
    "                if score >= 2: #means somebody saw this comment at least \n",
    "                    if acceptable(body):\n",
    "                        #now we check to see if there's a comment with this parent id with a better score\n",
    "                        existing_comment_score = find_existing_score(parent_id)\n",
    "                        if existing_comment_score:\n",
    "                            if score > existing_comment_score:\n",
    "                                ####\n",
    "                                sql_insert_replace_comment(comment_id, parent_id, parent_data, body, subreddit, created_utc, score)\n",
    "                        else:\n",
    "                            if parent_data:\n",
    "                                sql_insert_has_parent(comment_id, parent_id, parent_data, body, subreddit, created_utc, score)\n",
    "                            else:\n",
    "                                sql_insert_no_parent(comment_id, parent_id, body, subreddit, created_utc, score)\n",
    "                            \n",
    "                    \n",
    "                    "
   ]
  },
  {
   "cell_type": "code",
   "execution_count": null,
   "metadata": {
    "collapsed": true
   },
   "outputs": [],
   "source": [
    "######################\n",
    "#TUTORIAL code-block 1\n",
    "######################\n",
    "\n",
    "\n"
   ]
  }
 ],
 "metadata": {
  "kernelspec": {
   "display_name": "Python 2",
   "language": "python",
   "name": "python2"
  },
  "language_info": {
   "codemirror_mode": {
    "name": "ipython",
    "version": 2
   },
   "file_extension": ".py",
   "mimetype": "text/x-python",
   "name": "python",
   "nbconvert_exporter": "python",
   "pygments_lexer": "ipython2",
   "version": "2.7.15"
  }
 },
 "nbformat": 4,
 "nbformat_minor": 2
}
